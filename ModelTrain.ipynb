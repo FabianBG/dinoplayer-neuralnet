{
 "cells": [
  {
   "cell_type": "markdown",
   "metadata": {},
   "source": [
    "# Recorded data"
   ]
  },
  {
   "cell_type": "code",
   "execution_count": 121,
   "metadata": {},
   "outputs": [],
   "source": [
    "import pickle\n",
    "from matplotlib import pyplot as plt\n",
    "import numpy as np\n",
    "import tensorflow as tf\n",
    "from tensorflow.keras import datasets, layers, models"
   ]
  },
  {
   "cell_type": "code",
   "execution_count": 195,
   "metadata": {},
   "outputs": [],
   "source": [
    "# read data\n",
    "data = {}\n",
    "with open('data-test.pkl', 'rb') as f:\n",
    "    data = pickle.load(f)\n",
    "    "
   ]
  },
  {
   "cell_type": "code",
   "execution_count": 196,
   "metadata": {},
   "outputs": [
    {
     "name": "stdout",
     "output_type": "stream",
     "text": [
      "58\n",
      "[array([[255., 255., 255., ..., 255., 255., 255.],\n",
      "       [255., 255., 255., ..., 255., 255., 255.],\n",
      "       [255., 255., 255., ..., 255., 255., 255.],\n",
      "       ...,\n",
      "       [255., 255., 255., ..., 255., 255., 255.],\n",
      "       [255., 255., 255., ..., 255., 255., 255.],\n",
      "       [255., 255., 255., ..., 255., 255., 255.]]), array([[255., 255., 255., ..., 255., 255., 255.],\n",
      "       [255., 255., 255., ..., 255., 255., 255.],\n",
      "       [255., 255., 255., ..., 255., 255., 255.],\n",
      "       ...,\n",
      "       [255., 255., 255., ..., 255., 255., 255.],\n",
      "       [255., 255., 255., ..., 255., 255., 255.],\n",
      "       [255., 255., 255., ..., 255., 255., 255.]]), array([[255., 255., 255., ..., 255., 255., 255.],\n",
      "       [255., 255., 255., ..., 255., 255., 255.],\n",
      "       [255., 255., 255., ..., 255., 255., 255.],\n",
      "       ...,\n",
      "       [255., 255., 255., ..., 255., 255., 255.],\n",
      "       [255., 255., 255., ..., 255., 255., 255.],\n",
      "       [255., 255., 255., ..., 255., 255., 255.]])]\n"
     ]
    }
   ],
   "source": [
    "print(len(data))\n",
    "print(data[0][\"stack\"])"
   ]
  },
  {
   "cell_type": "code",
   "execution_count": 197,
   "metadata": {},
   "outputs": [
    {
     "data": {
      "text/plain": [
       "<matplotlib.image.AxesImage at 0x7f927359cbe0>"
      ]
     },
     "execution_count": 197,
     "metadata": {},
     "output_type": "execute_result"
    },
    {
     "data": {
      "image/png": "[encoded data removed]",
      "text/plain": [
       "<matplotlib.figure.Figure at 0x7f92726c1c18>"
      ]
     },
     "metadata": {
      "needs_background": "light"
     },
     "output_type": "display_data"
    }
   ],
   "source": [
    "plt.imshow(data[0][\"stack\"][0])"
   ]
  },
  {
   "cell_type": "code",
   "execution_count": 198,
   "metadata": {},
   "outputs": [
    {
     "data": {
      "text/plain": [
       "<matplotlib.image.AxesImage at 0x7f92726b2e10>"
      ]
     },
     "execution_count": 198,
     "metadata": {},
     "output_type": "execute_result"
    },
    {
     "data": {
      "image/png": "[encoded data removed]",
      "text/plain": [
       "<matplotlib.figure.Figure at 0x7f9272669048>"
      ]
     },
     "metadata": {
      "needs_background": "light"
     },
     "output_type": "display_data"
    }
   ],
   "source": [
    "plt.imshow(data[50][\"stack\"][0])"
   ]
  },
  {
   "cell_type": "code",
   "execution_count": 217,
   "metadata": {
    "scrolled": true
   },
   "outputs": [
    {
     "name": "stdout",
     "output_type": "stream",
     "text": [
      "[1, 0]\n",
      "(40, 120)\n",
      "[1, 0]\n",
      "(40, 120)\n",
      "[1, 0]\n",
      "(40, 120)\n",
      "[1, 0]\n",
      "(40, 120)\n",
      "[1, 0]\n",
      "(40, 120)\n",
      "[1, 0]\n",
      "(40, 120)\n",
      "[1, 0]\n",
      "(40, 120)\n",
      "[1, 0]\n",
      "(40, 120)\n",
      "[1, 0]\n",
      "(40, 120)\n",
      "[1, 0]\n",
      "(40, 120)\n",
      "[0, 1]\n",
      "(40, 120)\n",
      "[1, 0]\n",
      "(40, 120)\n",
      "[0, 1]\n",
      "(40, 120)\n",
      "[1, 0]\n",
      "(40, 120)\n",
      "[0, 1]\n",
      "(40, 120)\n",
      "[1, 0]\n",
      "(40, 120)\n",
      "[1, 0]\n",
      "(40, 120)\n",
      "[0, 1]\n",
      "(40, 120)\n",
      "[1, 0]\n",
      "(40, 120)\n",
      "[1, 0]\n",
      "(40, 120)\n"
     ]
    }
   ],
   "source": [
    "for d in data[0:20]:\n",
    "    print(d[\"value\"])\n",
    "    print(d[\"stack\"][0].shape)"
   ]
  },
  {
   "cell_type": "markdown",
   "metadata": {},
   "source": [
    "# Sample model train"
   ]
  },
  {
   "cell_type": "code",
   "execution_count": 207,
   "metadata": {
    "scrolled": true
   },
   "outputs": [
    {
     "name": "stdout",
     "output_type": "stream",
     "text": [
      "_________________________________________________________________\n",
      "Layer (type)                 Output Shape              Param #   \n",
      "=================================================================\n",
      "conv2d_80 (Conv2D)           (None, 38, 118, 32)       896       \n",
      "_________________________________________________________________\n",
      "max_pooling2d_51 (MaxPooling (None, 19, 59, 32)        0         \n",
      "_________________________________________________________________\n",
      "conv2d_81 (Conv2D)           (None, 17, 57, 64)        18496     \n",
      "_________________________________________________________________\n",
      "max_pooling2d_52 (MaxPooling (None, 8, 28, 64)         0         \n",
      "_________________________________________________________________\n",
      "conv2d_82 (Conv2D)           (None, 6, 26, 64)         36928     \n",
      "_________________________________________________________________\n",
      "flatten_25 (Flatten)         (None, 9984)              0         \n",
      "_________________________________________________________________\n",
      "dense_69 (Dense)             (None, 64)                639040    \n",
      "_________________________________________________________________\n",
      "dense_70 (Dense)             (None, 64)                4160      \n",
      "_________________________________________________________________\n",
      "dense_71 (Dense)             (None, 2)                 130       \n",
      "=================================================================\n",
      "Total params: 699,650\n",
      "Trainable params: 699,650\n",
      "Non-trainable params: 0\n",
      "_________________________________________________________________\n"
     ]
    }
   ],
   "source": [
    "model = models.Sequential()\n",
    "model.add(layers.Conv2D(\n",
    "    32, (3, 3), activation='relu', input_shape=(40, 120, 3)))\n",
    "model.add(layers.MaxPooling2D((2, 2)))\n",
    "model.add(layers.Conv2D(64, (3, 3), activation='relu'))\n",
    "model.add(layers.MaxPooling2D((2, 2)))\n",
    "model.add(layers.Conv2D(64, (3, 3), activation='relu'))\n",
    "\n",
    "model.add(layers.Flatten())\n",
    "model.add(layers.Dense(64, activation='relu'))\n",
    "model.add(layers.Dense(64, activation='relu'))\n",
    "model.add(layers.Dense(2, activation='softmax'))\n",
    "\n",
    "model.compile(optimizer='adam',\n",
    "              loss='binary_crossentropy',\n",
    "              metrics=['accuracy'])\n",
    "\n",
    "model.summary()"
   ]
  },
  {
   "cell_type": "code",
   "execution_count": 208,
   "metadata": {},
   "outputs": [
    {
     "name": "stdout",
     "output_type": "stream",
     "text": [
      "58\n",
      "(58, 40, 120, 3)\n",
      "58\n",
      "(58, 2)\n",
      "[1 0]\n"
     ]
    },
    {
     "data": {
      "text/plain": [
       "<matplotlib.image.AxesImage at 0x7f9270c35a20>"
      ]
     },
     "execution_count": 208,
     "metadata": {},
     "output_type": "execute_result"
    },
    {
     "data": {
      "image/png": "[encoded data removed]",
      "text/plain": [
       "<matplotlib.figure.Figure at 0x7f9270ebac18>"
      ]
     },
     "metadata": {
      "needs_background": "light"
     },
     "output_type": "display_data"
    }
   ],
   "source": [
    "x = []\n",
    "y = []\n",
    "for d in data:\n",
    "    tmp = [d[\"stack\"][0]/255, d[\"stack\"][1]/255, d[\"stack\"][2]/255]\n",
    "    x.append(np.stack(tmp, axis=2))\n",
    "    y.append(np.array(d[\"value\"]))\n",
    "x = np.array(x)\n",
    "y = np.array(y)\n",
    "\n",
    "print(len(x))\n",
    "print(x.shape)\n",
    "print(len(y))\n",
    "print(y.shape)\n",
    "\n",
    "print(y[20])\n",
    "plt.imshow(x[20])"
   ]
  },
  {
   "cell_type": "code",
   "execution_count": 209,
   "metadata": {},
   "outputs": [
    {
     "name": "stdout",
     "output_type": "stream",
     "text": [
      "[[1 0]\n",
      " [1 0]]\n",
      "Epoch 1/20\n",
      "58/58 [==============================] - 2s 28ms/step - loss: 0.6641 - acc: 0.4828\n",
      "Epoch 2/20\n",
      "58/58 [==============================] - 0s 403us/step - loss: 0.5916 - acc: 0.7241\n",
      "Epoch 3/20\n",
      "58/58 [==============================] - 0s 428us/step - loss: 0.5949 - acc: 0.7241\n",
      "Epoch 4/20\n",
      "58/58 [==============================] - 0s 380us/step - loss: 0.5917 - acc: 0.7241\n",
      "Epoch 5/20\n",
      "58/58 [==============================] - 0s 414us/step - loss: 0.6024 - acc: 0.7241\n",
      "Epoch 6/20\n",
      "58/58 [==============================] - 0s 378us/step - loss: 0.5885 - acc: 0.7241\n",
      "Epoch 7/20\n",
      "58/58 [==============================] - 0s 372us/step - loss: 0.5863 - acc: 0.7241\n",
      "Epoch 8/20\n",
      "58/58 [==============================] - 0s 442us/step - loss: 0.5841 - acc: 0.7241\n",
      "Epoch 9/20\n",
      "58/58 [==============================] - 0s 378us/step - loss: 0.5706 - acc: 0.7241\n",
      "Epoch 10/20\n",
      "58/58 [==============================] - 0s 390us/step - loss: 0.5701 - acc: 0.7241\n",
      "Epoch 11/20\n",
      "58/58 [==============================] - 0s 336us/step - loss: 0.5563 - acc: 0.7241\n",
      "Epoch 12/20\n",
      "58/58 [==============================] - 0s 411us/step - loss: 0.5632 - acc: 0.7241\n",
      "Epoch 13/20\n",
      "58/58 [==============================] - 0s 324us/step - loss: 0.4879 - acc: 0.7241\n",
      "Epoch 14/20\n",
      "58/58 [==============================] - 0s 387us/step - loss: 0.5138 - acc: 0.9483\n",
      "Epoch 15/20\n",
      "58/58 [==============================] - 0s 322us/step - loss: 0.4276 - acc: 0.7414\n",
      "Epoch 16/20\n",
      "58/58 [==============================] - 0s 373us/step - loss: 0.3930 - acc: 0.7241\n",
      "Epoch 17/20\n",
      "58/58 [==============================] - 0s 315us/step - loss: 0.3208 - acc: 0.9655\n",
      "Epoch 18/20\n",
      "58/58 [==============================] - 0s 358us/step - loss: 0.2311 - acc: 0.9655\n",
      "Epoch 19/20\n",
      "58/58 [==============================] - 0s 317us/step - loss: 0.1640 - acc: 0.9828\n",
      "Epoch 20/20\n",
      "58/58 [==============================] - 0s 357us/step - loss: 0.1237 - acc: 0.9655\n"
     ]
    }
   ],
   "source": [
    "xx = np.array([x[9], x[0]])\n",
    "yy = np.array([y[9], y[0]])\n",
    "print(yy)\n",
    "history = model.fit(x, y, epochs=20)"
   ]
  },
  {
   "cell_type": "code",
   "execution_count": 185,
   "metadata": {},
   "outputs": [
    {
     "data": {
      "text/plain": [
       "<matplotlib.legend.Legend at 0x7f92726567f0>"
      ]
     },
     "execution_count": 185,
     "metadata": {},
     "output_type": "execute_result"
    },
    {
     "data": {
      "image/png": "[encoded data removed]",
      "text/plain": [
       "<matplotlib.figure.Figure at 0x7f92727360f0>"
      ]
     },
     "metadata": {
      "needs_background": "light"
     },
     "output_type": "display_data"
    }
   ],
   "source": [
    "\n",
    "plt.plot(history.history['acc'], label='accuracy')\n",
    "plt.plot(history.history['loss'], label = 'val_loss')\n",
    "plt.xlabel('Epoch')\n",
    "plt.ylabel('Accuracy')\n",
    "plt.ylim([0.5, 1])\n",
    "plt.legend(loc='lower right')\n"
   ]
  },
  {
   "cell_type": "code",
   "execution_count": 201,
   "metadata": {},
   "outputs": [
    {
     "name": "stdout",
     "output_type": "stream",
     "text": [
      "0.936029904875262\n",
      "0.9137931055036085\n"
     ]
    }
   ],
   "source": [
    "test_loss, test_acc = model.evaluate(x, y, verbose=2)\n",
    "print(test_loss)\n",
    "print(test_acc)\n"
   ]
  },
  {
   "cell_type": "code",
   "execution_count": 218,
   "metadata": {},
   "outputs": [
    {
     "name": "stdout",
     "output_type": "stream",
     "text": [
      "[[0.4738525 0.5261475]]\n",
      "[1]\n"
     ]
    }
   ],
   "source": [
    "print(model.predict(np.array([x[10]])))\n",
    "print(model.predict_classes(np.array([x[10]])))"
   ]
  },
  {
   "cell_type": "code",
   "execution_count": 210,
   "metadata": {},
   "outputs": [],
   "source": [
    "tf.keras.models.save_model(model, 'model.tf')"
   ]
  },
  {
   "cell_type": "code",
   "execution_count": null,
   "metadata": {},
   "outputs": [],
   "source": []
  }
 ],
 "metadata": {
  "kernelspec": {
   "display_name": "Python 3",
   "language": "python",
   "name": "python3"
  },
  "language_info": {
   "codemirror_mode": {
    "name": "ipython",
    "version": 3
   },
   "file_extension": ".py",
   "mimetype": "text/x-python",
   "name": "python",
   "nbconvert_exporter": "python",
   "pygments_lexer": "ipython3",
   "version": "3.6.9"
  }
 },
 "nbformat": 4,
 "nbformat_minor": 2
}
